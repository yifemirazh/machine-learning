{
 "cells": [
  {
   "cell_type": "code",
   "execution_count": 4,
   "id": "df2baf2f",
   "metadata": {},
   "outputs": [],
   "source": [
    "import pandas as pd\n",
    "from sklearn.model_selection import train_test_split\n",
    "from sklearn.preprocessing import OneHotEncoder\n",
    "from sklearn.impute import SimpleImputer\n",
    "from sklearn.compose import ColumnTransformer\n",
    "from sklearn.pipeline import Pipeline\n",
    "from sklearn.model_selection import train_test_split\n"
   ]
  },
  {
   "cell_type": "code",
   "execution_count": 30,
   "id": "3569de9a",
   "metadata": {},
   "outputs": [
    {
     "name": "stdout",
     "output_type": "stream",
     "text": [
      "   work_year             job_title                    job_category  \\\n",
      "0       2023  Data DevOps Engineer                Data Engineering   \n",
      "1       2023        Data Architect  Data Architecture and Modeling   \n",
      "2       2023        Data Architect  Data Architecture and Modeling   \n",
      "3       2023        Data Scientist       Data Science and Research   \n",
      "4       2023        Data Scientist       Data Science and Research   \n",
      "\n",
      "  salary_currency   salary  salary_in_usd employee_residence experience_level  \\\n",
      "0             EUR      NaN        95012.0            Germany        Mid-level   \n",
      "1             USD      NaN       186000.0      United States           Senior   \n",
      "2             USD  81800.0            NaN      United States           Senior   \n",
      "3             USD      NaN       212000.0      United States           Senior   \n",
      "4             USD      NaN        93300.0      United States           Senior   \n",
      "\n",
      "  employment_type work_setting company_location company_size  \n",
      "0       Full-time       Hybrid          Germany            L  \n",
      "1       Full-time    In-person    United States            M  \n",
      "2       Full-time    In-person    United States            M  \n",
      "3       Full-time    In-person    United States            M  \n",
      "4       Full-time    In-person    United States            M  \n"
     ]
    }
   ],
   "source": [
    "# Load the dataset\n",
    "df = pd.read_csv(\"C:/3rd year materials/machine laerning/jobs_in_data.csv\")\n",
    "print(df.head())\n",
    "\n"
   ]
  },
  {
   "cell_type": "code",
   "execution_count": 6,
   "id": "1c104c37",
   "metadata": {},
   "outputs": [
    {
     "data": {
      "text/plain": [
       "{'shape': (9355, 12),\n",
       " 'column_names': ['work_year',\n",
       "  'job_title',\n",
       "  'job_category',\n",
       "  'salary_currency',\n",
       "  'salary',\n",
       "  'salary_in_usd',\n",
       "  'employee_residence',\n",
       "  'experience_level',\n",
       "  'employment_type',\n",
       "  'work_setting',\n",
       "  'company_location',\n",
       "  'company_size'],\n",
       " 'data_types': work_year               int64\n",
       " job_title              object\n",
       " job_category           object\n",
       " salary_currency        object\n",
       " salary                float64\n",
       " salary_in_usd         float64\n",
       " employee_residence     object\n",
       " experience_level       object\n",
       " employment_type        object\n",
       " work_setting           object\n",
       " company_location       object\n",
       " company_size           object\n",
       " dtype: object,\n",
       " 'missing_values': work_year                0\n",
       " job_title               26\n",
       " job_category             6\n",
       " salary_currency         12\n",
       " salary                3839\n",
       " salary_in_usd          820\n",
       " employee_residence       6\n",
       " experience_level        10\n",
       " employment_type         11\n",
       " work_setting            10\n",
       " company_location         8\n",
       " company_size            10\n",
       " dtype: int64,\n",
       " 'sample_data':    work_year             job_title                    job_category  \\\n",
       " 0       2023  Data DevOps Engineer                Data Engineering   \n",
       " 1       2023        Data Architect  Data Architecture and Modeling   \n",
       " 2       2023        Data Architect  Data Architecture and Modeling   \n",
       " 3       2023        Data Scientist       Data Science and Research   \n",
       " 4       2023        Data Scientist       Data Science and Research   \n",
       " \n",
       "   salary_currency   salary  salary_in_usd employee_residence experience_level  \\\n",
       " 0             EUR      NaN        95012.0            Germany        Mid-level   \n",
       " 1             USD      NaN       186000.0      United States           Senior   \n",
       " 2             USD  81800.0            NaN      United States           Senior   \n",
       " 3             USD      NaN       212000.0      United States           Senior   \n",
       " 4             USD      NaN        93300.0      United States           Senior   \n",
       " \n",
       "   employment_type work_setting company_location company_size  \n",
       " 0       Full-time       Hybrid          Germany            L  \n",
       " 1       Full-time    In-person    United States            M  \n",
       " 2       Full-time    In-person    United States            M  \n",
       " 3       Full-time    In-person    United States            M  \n",
       " 4       Full-time    In-person    United States            M  }"
      ]
     },
     "execution_count": 6,
     "metadata": {},
     "output_type": "execute_result"
    }
   ],
   "source": [
    "data_info = {\n",
    "    \"shape\": df.shape,\n",
    "    \"column_names\": df.columns.tolist(),\n",
    "    \"data_types\": df.dtypes,\n",
    "    \"missing_values\": df.isnull().sum(),\n",
    "    \"sample_data\": df.head()\n",
    "}\n",
    "\n",
    "data_info"
   ]
  },
  {
   "cell_type": "code",
   "execution_count": 31,
   "id": "554f632c",
   "metadata": {},
   "outputs": [
    {
     "name": "stdout",
     "output_type": "stream",
     "text": [
      "work_year                0\n",
      "job_title               26\n",
      "job_category             6\n",
      "salary_currency         12\n",
      "salary                3839\n",
      "salary_in_usd          820\n",
      "employee_residence       6\n",
      "experience_level        10\n",
      "employment_type         11\n",
      "work_setting            10\n",
      "company_location         8\n",
      "company_size            10\n",
      "dtype: int64\n"
     ]
    }
   ],
   "source": [
    "print(df.isnull().sum())\n"
   ]
  },
  {
   "cell_type": "code",
   "execution_count": 32,
   "id": "40914578",
   "metadata": {},
   "outputs": [
    {
     "name": "stdout",
     "output_type": "stream",
     "text": [
      "Remaining missing values:\n",
      "work_year             0\n",
      "job_title             0\n",
      "job_category          0\n",
      "salary_currency       0\n",
      "salary                0\n",
      "salary_in_usd         0\n",
      "employee_residence    0\n",
      "experience_level      0\n",
      "employment_type       0\n",
      "work_setting          0\n",
      "company_location      0\n",
      "company_size          0\n",
      "dtype: int64\n",
      "Imputed numeric columns: Index(['work_year', 'salary', 'salary_in_usd'], dtype='object')\n",
      "Imputed categorical columns: Index(['job_title', 'job_category', 'salary_currency', 'employee_residence',\n",
      "       'experience_level', 'employment_type', 'work_setting',\n",
      "       'company_location', 'company_size'],\n",
      "      dtype='object')\n"
     ]
    }
   ],
   "source": [
    "import pandas as pd\n",
    "from sklearn.impute import SimpleImputer\n",
    "\n",
    "# Step 1: Identify numeric and categorical columns\n",
    "numeric_cols = df.select_dtypes(include=['number']).columns  # Handles all numeric types\n",
    "categorical_cols = df.select_dtypes(include=['object', 'bool', 'category']).columns\n",
    "\n",
    "# Step 2: Handle columns with all missing values separately\n",
    "# For numeric columns with all NaNs, we can fill them with a constant value (e.g., 0 or a placeholder like -1)\n",
    "df[numeric_cols] = df[numeric_cols].fillna(0)  # Or use -1, or other placeholders if needed\n",
    "\n",
    "# For categorical columns with all NaNs, we can fill them with a constant value like \"Unknown\" or any other placeholder\n",
    "df[categorical_cols] = df[categorical_cols].fillna('Unknown')\n",
    "\n",
    "# Step 3: Apply imputers to columns that still have missing values\n",
    "# Re-create imputers\n",
    "num_imputer = SimpleImputer(strategy='mean')  # Use 'median' if preferred\n",
    "cat_imputer = SimpleImputer(strategy='most_frequent')\n",
    "\n",
    "# Apply imputers only for columns with non-missing values\n",
    "df[numeric_cols] = num_imputer.fit_transform(df[numeric_cols])\n",
    "df[categorical_cols] = cat_imputer.fit_transform(df[categorical_cols])\n",
    "\n",
    "# Step 4: Check for remaining missing values (optional)\n",
    "print(\"Remaining missing values:\")\n",
    "print(df.isnull().sum())\n",
    "\n",
    "# Optional: Monitor imputed columns\n",
    "print(\"Imputed numeric columns:\", numeric_cols)\n",
    "print(\"Imputed categorical columns:\", categorical_cols)\n",
    "\n",
    "# Optional: Assert no missing values remain\n",
    "assert df.isnull().sum().sum() == 0, \"Still missing values present!\"\n"
   ]
  },
  {
   "cell_type": "code",
   "execution_count": 33,
   "id": "effb0451",
   "metadata": {},
   "outputs": [],
   "source": [
    "df_new = df.drop(['salary', 'employee_residence', 'job_category','salary_currency'], axis=1)\n"
   ]
  },
  {
   "cell_type": "code",
   "execution_count": 34,
   "id": "0e845763",
   "metadata": {},
   "outputs": [
    {
     "name": "stdout",
     "output_type": "stream",
     "text": [
      "Index(['work_year', 'job_title', 'salary_in_usd', 'experience_level',\n",
      "       'employment_type', 'work_setting', 'company_location', 'company_size'],\n",
      "      dtype='object')\n"
     ]
    }
   ],
   "source": [
    "print(df_new.columns)\n"
   ]
  },
  {
   "cell_type": "code",
   "execution_count": 35,
   "id": "80b5e5ac",
   "metadata": {},
   "outputs": [
    {
     "name": "stderr",
     "output_type": "stream",
     "text": [
      "C:\\Users\\hp\\AppData\\Local\\Temp\\ipykernel_14808\\3238084770.py:16: SettingWithCopyWarning: \n",
      "A value is trying to be set on a copy of a slice from a DataFrame.\n",
      "Try using .loc[row_indexer,col_indexer] = value instead\n",
      "\n",
      "See the caveats in the documentation: https://pandas.pydata.org/pandas-docs/stable/user_guide/indexing.html#returning-a-view-versus-a-copy\n",
      "  df_subset['experience_level'] = label_encoder.fit_transform(df_subset['experience_level'])\n",
      "C:\\Users\\hp\\AppData\\Local\\Temp\\ipykernel_14808\\3238084770.py:19: SettingWithCopyWarning: \n",
      "A value is trying to be set on a copy of a slice from a DataFrame.\n",
      "Try using .loc[row_indexer,col_indexer] = value instead\n",
      "\n",
      "See the caveats in the documentation: https://pandas.pydata.org/pandas-docs/stable/user_guide/indexing.html#returning-a-view-versus-a-copy\n",
      "  df_subset['company_size'] = label_encoder.fit_transform(df_subset['company_size'])\n"
     ]
    },
    {
     "name": "stdout",
     "output_type": "stream",
     "text": [
      "R² Score: 0.165\n"
     ]
    }
   ],
   "source": [
    "import pandas as pd\n",
    "from sklearn.preprocessing import LabelEncoder\n",
    "from sklearn.linear_model import LinearRegression\n",
    "from sklearn.model_selection import train_test_split\n",
    "\n",
    "# List of selected features\n",
    "selected_features = ['work_year', 'job_title', 'salary_in_usd', \n",
    "                     'experience_level', 'employment_type', 'work_setting', \n",
    "                     'company_location', 'company_size']\n",
    "\n",
    "# Subset the DataFrame to include only the selected features\n",
    "df_subset = df[selected_features]\n",
    "\n",
    "# 1. Label encode 'experience_level' (ordinal: 'Junior', 'Mid-level', 'Senior' -> 0, 1, 2)\n",
    "label_encoder = LabelEncoder()\n",
    "df_subset['experience_level'] = label_encoder.fit_transform(df_subset['experience_level'])\n",
    "\n",
    "# 2. Label encode 'company_size' (ordinal: 'Small', 'Medium', 'Large' -> 0, 1, 2)\n",
    "df_subset['company_size'] = label_encoder.fit_transform(df_subset['company_size'])\n",
    "\n",
    "# 3. Perform One-Hot Encoding on the remaining categorical features (like job_title, salary_currency, etc.)\n",
    "df_encoded = pd.get_dummies(df_subset, drop_first=True)\n",
    "\n",
    "# Split into training and testing data\n",
    "X = df_encoded.drop('salary_in_usd', axis=1)  # Assuming 'salary_in_usd' is your target variable\n",
    "y = df_encoded['salary_in_usd']\n",
    "\n",
    "# Train-test split\n",
    "X_train, X_test, y_train, y_test = train_test_split(X, y, test_size=0.2, random_state=42)\n",
    "\n",
    "# Ensure that X_test has the same columns as X_train (with the same one-hot encoding)\n",
    "X_train, X_test = X_train.align(X_test, join='left', axis=1, fill_value=0)\n",
    "\n",
    "# Initialize the model\n",
    "model = LinearRegression()\n",
    "\n",
    "# Train the model\n",
    "model.fit(X_train, y_train)\n",
    "\n",
    "# Evaluate the model on the test set\n",
    "r2 = model.score(X_test, y_test)\n",
    "print(f\"R² Score: {r2:.3f}\")\n"
   ]
  },
  {
   "cell_type": "code",
   "execution_count": 36,
   "id": "f0b94d9e",
   "metadata": {},
   "outputs": [
    {
     "name": "stdout",
     "output_type": "stream",
     "text": [
      "R² Score: 0.165\n"
     ]
    }
   ],
   "source": [
    "from sklearn.preprocessing import StandardScaler\n",
    "\n",
    "scaler = StandardScaler()\n",
    "X_train_scaled = scaler.fit_transform(X_train)\n",
    "X_test_scaled = scaler.transform(X_test)\n",
    "\n",
    "# Train the model with the scaled data\n",
    "model.fit(X_train_scaled, y_train)\n",
    "r2 = model.score(X_test_scaled, y_test)\n",
    "print(f\"R² Score: {r2:.3f}\")\n"
   ]
  },
  {
   "cell_type": "code",
   "execution_count": 37,
   "id": "f536e148",
   "metadata": {},
   "outputs": [
    {
     "ename": "NameError",
     "evalue": "name 'y_pred' is not defined",
     "output_type": "error",
     "traceback": [
      "\u001b[31m---------------------------------------------------------------------------\u001b[39m",
      "\u001b[31mNameError\u001b[39m                                 Traceback (most recent call last)",
      "\u001b[36mCell\u001b[39m\u001b[36m \u001b[39m\u001b[32mIn[37]\u001b[39m\u001b[32m, line 4\u001b[39m\n\u001b[32m      1\u001b[39m \u001b[38;5;66;03m# Create a DataFrame to compare actual vs predicted salaries\u001b[39;00m\n\u001b[32m      2\u001b[39m comparison_df = pd.DataFrame({\n\u001b[32m      3\u001b[39m     \u001b[33m\"\u001b[39m\u001b[33mActual Salary\u001b[39m\u001b[33m\"\u001b[39m: y_test.values,\n\u001b[32m----> \u001b[39m\u001b[32m4\u001b[39m     \u001b[33m\"\u001b[39m\u001b[33mPredicted Salary\u001b[39m\u001b[33m\"\u001b[39m: \u001b[43my_pred\u001b[49m\n\u001b[32m      5\u001b[39m })\n\u001b[32m      7\u001b[39m \u001b[38;5;66;03m# Show first 10 results\u001b[39;00m\n\u001b[32m      8\u001b[39m \u001b[38;5;28mprint\u001b[39m(comparison_df.head(\u001b[32m10\u001b[39m))\n",
      "\u001b[31mNameError\u001b[39m: name 'y_pred' is not defined"
     ]
    }
   ],
   "source": [
    "# Create a DataFrame to compare actual vs predicted salaries\n",
    "comparison_df = pd.DataFrame({\n",
    "    \"Actual Salary\": y_test.values,\n",
    "    \"Predicted Salary\": y_pred\n",
    "})\n",
    "\n",
    "# Show first 10 results\n",
    "print(comparison_df.head(10))\n"
   ]
  },
  {
   "cell_type": "code",
   "execution_count": 38,
   "id": "e962f599",
   "metadata": {},
   "outputs": [],
   "source": [
    "# Filter out rows with zero salary\n",
    "df = df[df[\"salary_in_usd\"] > 0]\n"
   ]
  },
  {
   "cell_type": "code",
   "execution_count": 39,
   "id": "a64904e4",
   "metadata": {},
   "outputs": [],
   "source": [
    "# Target and feature split\n",
    "y = df[\"salary_in_usd\"]\n",
    "X = df.drop(columns=[\"salary_in_usd\"])\n",
    "\n",
    "# One-hot encode categorical features\n",
    "X = pd.get_dummies(X, drop_first=True)\n",
    "\n",
    "# Split into training and testing sets\n",
    "from sklearn.model_selection import train_test_split\n",
    "X_train, X_test, y_train, y_test = train_test_split(\n",
    "    X, y, test_size=0.2, random_state=42\n",
    ")\n"
   ]
  },
  {
   "cell_type": "code",
   "execution_count": 40,
   "id": "50ab4e31",
   "metadata": {},
   "outputs": [],
   "source": [
    "from sklearn.linear_model import LinearRegression\n",
    "\n",
    "model = LinearRegression()\n",
    "model.fit(X_train, y_train)\n",
    "y_pred = model.predict(X_test)\n"
   ]
  },
  {
   "cell_type": "code",
   "execution_count": 41,
   "id": "f176e00f",
   "metadata": {},
   "outputs": [
    {
     "data": {
      "text/html": [
       "<div>\n",
       "<style scoped>\n",
       "    .dataframe tbody tr th:only-of-type {\n",
       "        vertical-align: middle;\n",
       "    }\n",
       "\n",
       "    .dataframe tbody tr th {\n",
       "        vertical-align: top;\n",
       "    }\n",
       "\n",
       "    .dataframe thead th {\n",
       "        text-align: right;\n",
       "    }\n",
       "</style>\n",
       "<table border=\"1\" class=\"dataframe\">\n",
       "  <thead>\n",
       "    <tr style=\"text-align: right;\">\n",
       "      <th></th>\n",
       "      <th>Actual Salary</th>\n",
       "      <th>Predicted Salary</th>\n",
       "    </tr>\n",
       "  </thead>\n",
       "  <tbody>\n",
       "    <tr>\n",
       "      <th>0</th>\n",
       "      <td>48585.0</td>\n",
       "      <td>65132.145057</td>\n",
       "    </tr>\n",
       "    <tr>\n",
       "      <th>1</th>\n",
       "      <td>104650.0</td>\n",
       "      <td>175384.148751</td>\n",
       "    </tr>\n",
       "    <tr>\n",
       "      <th>2</th>\n",
       "      <td>130900.0</td>\n",
       "      <td>143784.442058</td>\n",
       "    </tr>\n",
       "    <tr>\n",
       "      <th>3</th>\n",
       "      <td>205000.0</td>\n",
       "      <td>179605.857958</td>\n",
       "    </tr>\n",
       "    <tr>\n",
       "      <th>4</th>\n",
       "      <td>156400.0</td>\n",
       "      <td>138910.434683</td>\n",
       "    </tr>\n",
       "    <tr>\n",
       "      <th>5</th>\n",
       "      <td>192564.0</td>\n",
       "      <td>185979.613572</td>\n",
       "    </tr>\n",
       "    <tr>\n",
       "      <th>6</th>\n",
       "      <td>79600.0</td>\n",
       "      <td>149271.211554</td>\n",
       "    </tr>\n",
       "    <tr>\n",
       "      <th>7</th>\n",
       "      <td>204500.0</td>\n",
       "      <td>176883.498391</td>\n",
       "    </tr>\n",
       "    <tr>\n",
       "      <th>8</th>\n",
       "      <td>180180.0</td>\n",
       "      <td>148482.687458</td>\n",
       "    </tr>\n",
       "    <tr>\n",
       "      <th>9</th>\n",
       "      <td>210000.0</td>\n",
       "      <td>194701.330637</td>\n",
       "    </tr>\n",
       "  </tbody>\n",
       "</table>\n",
       "</div>"
      ],
      "text/plain": [
       "   Actual Salary  Predicted Salary\n",
       "0        48585.0      65132.145057\n",
       "1       104650.0     175384.148751\n",
       "2       130900.0     143784.442058\n",
       "3       205000.0     179605.857958\n",
       "4       156400.0     138910.434683\n",
       "5       192564.0     185979.613572\n",
       "6        79600.0     149271.211554\n",
       "7       204500.0     176883.498391\n",
       "8       180180.0     148482.687458\n",
       "9       210000.0     194701.330637"
      ]
     },
     "execution_count": 41,
     "metadata": {},
     "output_type": "execute_result"
    }
   ],
   "source": [
    "# Show updated Actual vs Predicted\n",
    "pd.DataFrame({\n",
    "    \"Actual Salary\": y_test.values,\n",
    "    \"Predicted Salary\": y_pred\n",
    "}).head(10)\n"
   ]
  },
  {
   "cell_type": "code",
   "execution_count": 42,
   "id": "e740b52d",
   "metadata": {},
   "outputs": [
    {
     "name": "stdout",
     "output_type": "stream",
     "text": [
      "MAE: 35270.67590949201\n",
      "RMSE: 46236.91937174553\n",
      "R² Score: 0.45998577247543415\n"
     ]
    }
   ],
   "source": [
    "from sklearn.metrics import mean_absolute_error, mean_squared_error, r2_score\n",
    "import numpy as np\n",
    "\n",
    "print(\"MAE:\", mean_absolute_error(y_test, y_pred))\n",
    "print(\"RMSE:\", np.sqrt(mean_squared_error(y_test, y_pred)))\n",
    "print(\"R² Score:\", r2_score(y_test, y_pred))\n"
   ]
  },
  {
   "cell_type": "code",
   "execution_count": 43,
   "id": "f71ce84b",
   "metadata": {},
   "outputs": [],
   "source": [
    "from sklearn.ensemble import RandomForestRegressor\n",
    "\n",
    "rf_model = RandomForestRegressor(random_state=42)\n",
    "rf_model.fit(X_train, y_train)\n",
    "y_pred_rf = rf_model.predict(X_test)\n"
   ]
  },
  {
   "cell_type": "code",
   "execution_count": 44,
   "id": "9083db6c",
   "metadata": {},
   "outputs": [
    {
     "name": "stdout",
     "output_type": "stream",
     "text": [
      "MAE: 16632.350543197463\n",
      "RMSE: 31583.22366842242\n",
      "R² Score: 0.7480349333611551\n"
     ]
    }
   ],
   "source": [
    "from sklearn.metrics import mean_absolute_error, mean_squared_error, r2_score\n",
    "import numpy as np\n",
    "\n",
    "print(\"MAE:\", mean_absolute_error(y_test, y_pred_rf))\n",
    "print(\"RMSE:\", np.sqrt(mean_squared_error(y_test, y_pred_rf)))\n",
    "print(\"R² Score:\", r2_score(y_test, y_pred_rf))\n"
   ]
  },
  {
   "cell_type": "code",
   "execution_count": 45,
   "id": "368b3cda",
   "metadata": {},
   "outputs": [
    {
     "name": "stdout",
     "output_type": "stream",
     "text": [
      "   Actual Salary  Predicted Salary\n",
      "0        48585.0      65132.145057\n",
      "1       104650.0     175384.148751\n",
      "2       130900.0     143784.442058\n",
      "3       205000.0     179605.857958\n",
      "4       156400.0     138910.434683\n",
      "5       192564.0     185979.613572\n",
      "6        79600.0     149271.211554\n",
      "7       204500.0     176883.498391\n",
      "8       180180.0     148482.687458\n",
      "9       210000.0     194701.330637\n"
     ]
    }
   ],
   "source": [
    "results = pd.DataFrame({\n",
    "    \"Actual Salary\": y_test.values,\n",
    "    \"Predicted Salary\": y_pred\n",
    "})\n",
    "\n",
    "print(results.head(10))  # Show first 10 rows\n"
   ]
  },
  {
   "cell_type": "code",
   "execution_count": null,
   "id": "c148f80d",
   "metadata": {},
   "outputs": [],
   "source": []
  }
 ],
 "metadata": {
  "kernelspec": {
   "display_name": "Python 3",
   "language": "python",
   "name": "python3"
  },
  "language_info": {
   "codemirror_mode": {
    "name": "ipython",
    "version": 3
   },
   "file_extension": ".py",
   "mimetype": "text/x-python",
   "name": "python",
   "nbconvert_exporter": "python",
   "pygments_lexer": "ipython3",
   "version": "3.13.3"
  }
 },
 "nbformat": 4,
 "nbformat_minor": 5
}
